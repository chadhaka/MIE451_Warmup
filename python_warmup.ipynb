{
 "cells": [
  {
   "cell_type": "code",
   "execution_count": 3,
   "metadata": {
    "collapsed": true
   },
   "outputs": [],
   "source": [
    "#Exercise 1\n",
    "def oddLines(filePath):\n",
    "    fOpen= open(filePath,\"r\")\n",
    "    fileText= fOpen.read()\n",
    "    fileLines = fileText.splitlines()\n",
    "   # print(fileLines[1::2])\n",
    "    i = 0\n",
    "    for line in fileLines:\n",
    "        if i%2 != 0:\n",
    "            print(fileLines[i])         \n",
    "        i += 1\n",
    "   \n",
    "    return;\n",
    "        "
   ]
  },
  {
   "cell_type": "code",
   "execution_count": 18,
   "metadata": {
    "collapsed": true
   },
   "outputs": [],
   "source": [
    "#Exercise 2 \n",
    "def greetAndCount(name):\n",
    "    print(\"Hello \"+ name)\n",
    "    return len(name);"
   ]
  },
  {
   "cell_type": "code",
   "execution_count": null,
   "metadata": {
    "collapsed": true
   },
   "outputs": [],
   "source": [
    "#Exercise 3\n",
    "def divisors(num1, num2):\n",
    "    numberList=[]\n",
    "    for x in range(1,num1+1):\n",
    "        if x%num2 == 0:\n",
    "            numberList.append(x)\n",
    "    return numberList;"
   ]
  },
  {
   "cell_type": "code",
   "execution_count": 106,
   "metadata": {
    "collapsed": true
   },
   "outputs": [],
   "source": [
    "#Exercise 4\n",
    "def countWords(wordList):\n",
    "    countList = []\n",
    "    wordList2 = []\n",
    "    for word in wordList:\n",
    "        wordList2.append(word.lower())\n",
    "    for word in wordList2:\n",
    "        countList.append(wordList2.count(word))\n",
    "    wordListCombo = zip(wordList2, countList)\n",
    "    wordListDict = dict(wordListCombo)\n",
    "    return wordListDict;\n",
    "    "
   ]
  },
  {
   "cell_type": "code",
   "execution_count": 144,
   "metadata": {
    "collapsed": true
   },
   "outputs": [],
   "source": [
    "#Exercise 5\n",
    "def organizedCountWords(wordList):\n",
    "    countList = []\n",
    "    letterList =[]\n",
    "    wordList2 = []\n",
    "    for word in wordList:\n",
    "        wordList2.append(word.lower())\n",
    "    for word in wordList2:\n",
    "        countList.append(wordList2.count(word))\n",
    "        letterList.append(word[0].lower())\n",
    "    wordListCombo = zip(wordList2, countList)\n",
    "    wordCountDict = dict(wordListCombo)\n",
    "    letterDict = {}\n",
    "   \n",
    "    for letter in letterList:\n",
    "        for word in  wordCountDict:\n",
    "            if word[0] == letter:\n",
    "                if letter in letterDict:\n",
    "                    letterDict[letter][word] = wordCountDict[word]\n",
    "                else:\n",
    "                    letterDict[letter]={}\n",
    "                    letterDict[letter][word] = wordCountDict[word]\n",
    "            else:\n",
    "                continue\n",
    "    return letterDict;\n",
    "    \n",
    "    \n",
    "    "
   ]
  }
 ],
 "metadata": {
  "kernelspec": {
   "display_name": "Python [default]",
   "language": "python",
   "name": "python2"
  },
  "language_info": {
   "codemirror_mode": {
    "name": "ipython",
    "version": 2
   },
   "file_extension": ".py",
   "mimetype": "text/x-python",
   "name": "python",
   "nbconvert_exporter": "python",
   "pygments_lexer": "ipython2",
   "version": "2.7.13"
  }
 },
 "nbformat": 4,
 "nbformat_minor": 2
}
