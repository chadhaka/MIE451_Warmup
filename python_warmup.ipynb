{
 "cells": [
  {
   "cell_type": "code",
   "execution_count": 4,
   "metadata": {},
   "outputs": [],
   "source": [
    "#Exercise 1\n",
    "def oddLines(filePath):\n",
    "    fOpen= open(filePath,\"r\")\n",
    "    fileText= fOpen.read()\n",
    "    fileLines = fileText.splitlines()\n",
    "   # print(fileLines[1::2])\n",
    "    i = 0\n",
    "    for line in fileLines:\n",
    "        if i%2 != 0:\n",
    "            print(fileLines[i])         \n",
    "        i += 1\n",
    "   \n",
    "    return;\n",
    "        "
   ]
  },
  {
   "cell_type": "code",
   "execution_count": 5,
   "metadata": {},
   "outputs": [
    {
     "name": "stdout",
     "output_type": "stream",
     "text": [
      "Kanishk dwefwef\n",
      "Works why not\n"
     ]
    }
   ],
   "source": [
    "#oddLines(\"TextFile.txt\")"
   ]
  },
  {
   "cell_type": "code",
   "execution_count": 44,
   "metadata": {},
   "outputs": [],
   "source": [
    "#Exercise 2 \n",
    "def greetAndCount(name):\n",
    "    print(\"Hello \"+ name)\n",
    "    print(len(name))\n",
    "    "
   ]
  },
  {
   "cell_type": "code",
   "execution_count": 45,
   "metadata": {},
   "outputs": [
    {
     "name": "stdout",
     "output_type": "stream",
     "text": [
      "Hello Kanishk\n",
      "7\n",
      "None\n"
     ]
    }
   ],
   "source": [
    "#print(greetAndCount(\"Kanishk\"))"
   ]
  },
  {
   "cell_type": "code",
   "execution_count": 6,
   "metadata": {},
   "outputs": [],
   "source": [
    "#Exercise 3\n",
    "def divisors(num1, num2):\n",
    "    numberList=[]\n",
    "    for x in range(1,num1+1):\n",
    "        if x%num2 == 0:\n",
    "            numberList.append(x)\n",
    "    return numberList\n",
    "    #return\n",
    "            \n"
   ]
  },
  {
   "cell_type": "code",
   "execution_count": 10,
   "metadata": {},
   "outputs": [
    {
     "name": "stdout",
     "output_type": "stream",
     "text": [
      "[9, 18, 27, 36, 45]\n",
      "None\n"
     ]
    }
   ],
   "source": [
    "print(divisors(45,9))"
   ]
  },
  {
   "cell_type": "code",
   "execution_count": null,
   "metadata": {
    "collapsed": true
   },
   "outputs": [],
   "source": [
    "#Exercise 4\n",
    "def countWords(wordList):\n",
    "    \n",
    "    "
   ]
  }
 ],
 "metadata": {
  "kernelspec": {
   "display_name": "Python [default]",
   "language": "python",
   "name": "python2"
  },
  "language_info": {
   "codemirror_mode": {
    "name": "ipython",
    "version": 2
   },
   "file_extension": ".py",
   "mimetype": "text/x-python",
   "name": "python",
   "nbconvert_exporter": "python",
   "pygments_lexer": "ipython2",
   "version": "2.7.13"
  }
 },
 "nbformat": 4,
 "nbformat_minor": 2
}
